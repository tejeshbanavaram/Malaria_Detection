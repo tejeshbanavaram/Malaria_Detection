{
 "cells": [
  {
   "cell_type": "code",
   "execution_count": 1,
   "id": "8866ecd7-2d84-4b91-9da3-d56eae8fbb6a",
   "metadata": {
    "colab": {
     "base_uri": "https://localhost:8080/"
    },
    "id": "8866ecd7-2d84-4b91-9da3-d56eae8fbb6a",
    "outputId": "63fb96c2-a0e8-4e3b-ce02-f7ffb296728b"
   },
   "outputs": [
    {
     "name": "stdout",
     "output_type": "stream",
     "text": [
      "Mounted at /content/drive\n"
     ]
    }
   ],
   "source": [
    "from google.colab import drive\n",
    "drive.mount('/content/drive')"
   ]
  },
  {
   "cell_type": "code",
   "execution_count": 2,
   "id": "RTOg4Ysjtdcr",
   "metadata": {
    "id": "RTOg4Ysjtdcr"
   },
   "outputs": [],
   "source": [
    "# import the libraries as shown below\n",
    "\n",
    "from tensorflow.keras.layers import Input, Lambda, Dense, Flatten,Conv2D\n",
    "from tensorflow.keras.models import Model\n",
    "from tensorflow.keras.applications.vgg19 import VGG19\n",
    "from tensorflow.keras.applications.vgg19 import preprocess_input\n",
    "from tensorflow.keras.preprocessing import image\n",
    "from tensorflow.keras.preprocessing.image import ImageDataGenerator,load_img\n",
    "from tensorflow.keras.models import Sequential\n",
    "import numpy as np\n",
    "from glob import glob\n",
    "import matplotlib.pyplot as plt"
   ]
  },
  {
   "cell_type": "code",
   "execution_count": 4,
   "id": "DcQdIOfgsHm0",
   "metadata": {
    "id": "DcQdIOfgsHm0"
   },
   "outputs": [],
   "source": []
  },
  {
   "cell_type": "code",
   "execution_count": 5,
   "id": "71f0472d-a3f1-4aa7-a216-78fbceb5850e",
   "metadata": {
    "id": "71f0472d-a3f1-4aa7-a216-78fbceb5850e"
   },
   "outputs": [],
   "source": [
    "IMAGE_SIZE = [224,224]\n",
    "\n",
    "#Add train & test paths\n",
    "train_path = '/content/drive/MyDrive/cell_images/train'\n",
    "test_path = '/content/drive/MyDrive/cell_images/test'"
   ]
  },
  {
   "cell_type": "code",
   "execution_count": 6,
   "id": "8e6d3762-dce4-48df-ae57-138f37ff3890",
   "metadata": {
    "colab": {
     "base_uri": "https://localhost:8080/"
    },
    "id": "8e6d3762-dce4-48df-ae57-138f37ff3890",
    "outputId": "6119ea99-b3f2-4321-9d6a-ff85d98031c8"
   },
   "outputs": [
    {
     "name": "stdout",
     "output_type": "stream",
     "text": [
      "Downloading data from https://storage.googleapis.com/tensorflow/keras-applications/vgg19/vgg19_weights_tf_dim_ordering_tf_kernels_notop.h5\n",
      "80142336/80134624 [==============================] - 1s 0us/step\n"
     ]
    }
   ],
   "source": [
    "# add preprocessing layer to the front of VGG\n",
    "vgg = VGG19(input_shape=IMAGE_SIZE + [3], weights='imagenet', include_top=False)"
   ]
  },
  {
   "cell_type": "code",
   "execution_count": 7,
   "id": "cea2f267-2bf6-4877-afe9-358542b1fc57",
   "metadata": {
    "id": "cea2f267-2bf6-4877-afe9-358542b1fc57"
   },
   "outputs": [],
   "source": [
    "#dont train existing layers\n",
    "\n",
    "for layer in vgg.layers:\n",
    "    layer.trainable = False"
   ]
  },
  {
   "cell_type": "code",
   "execution_count": 8,
   "id": "1abfed52-e5fd-4ba9-ade9-b65ba6b62721",
   "metadata": {
    "colab": {
     "base_uri": "https://localhost:8080/"
    },
    "id": "1abfed52-e5fd-4ba9-ade9-b65ba6b62721",
    "outputId": "34328f7a-9b82-4248-b572-38e73b68f9e1"
   },
   "outputs": [
    {
     "data": {
      "text/plain": [
       "(['/content/drive/MyDrive/cell_images/test/uninfected',\n",
       "  '/content/drive/MyDrive/cell_images/test/parasitized'],\n",
       " 2)"
      ]
     },
     "execution_count": 8,
     "metadata": {
      "tags": []
     },
     "output_type": "execute_result"
    }
   ],
   "source": [
    "# get folder details and no of folders within train & test\n",
    "\n",
    "folders = glob('/content/drive/MyDrive/cell_images/test/*')\n",
    "folders, len(folders)"
   ]
  },
  {
   "cell_type": "code",
   "execution_count": 9,
   "id": "66666ffc-4076-4d56-bd4e-4eaa5ef81666",
   "metadata": {
    "colab": {
     "base_uri": "https://localhost:8080/"
    },
    "id": "66666ffc-4076-4d56-bd4e-4eaa5ef81666",
    "outputId": "58844b31-707d-4dfc-a049-ca65781ac316"
   },
   "outputs": [
    {
     "data": {
      "text/plain": [
       "<KerasTensor: shape=(None, 7, 7, 512) dtype=float32 (created by layer 'block5_pool')>"
      ]
     },
     "execution_count": 9,
     "metadata": {
      "tags": []
     },
     "output_type": "execute_result"
    }
   ],
   "source": [
    "vgg.output"
   ]
  },
  {
   "cell_type": "code",
   "execution_count": 10,
   "id": "aebc92be-ddf4-47d8-b2fb-d3109349f577",
   "metadata": {
    "id": "aebc92be-ddf4-47d8-b2fb-d3109349f577"
   },
   "outputs": [],
   "source": [
    "#Final flatten layer\n",
    "\n",
    "x = Flatten()(vgg.output)\n",
    "prediction = Dense(len(folders), activation='softmax')(x)"
   ]
  },
  {
   "cell_type": "code",
   "execution_count": 11,
   "id": "fdd2c1c9-2fb3-4074-a97a-62c860c3ba99",
   "metadata": {
    "id": "fdd2c1c9-2fb3-4074-a97a-62c860c3ba99"
   },
   "outputs": [],
   "source": [
    "#create a model object\n",
    "model = Model(inputs=vgg.input,outputs=prediction)"
   ]
  },
  {
   "cell_type": "code",
   "execution_count": 12,
   "id": "b9967e8c-bd3c-465b-9fd6-b0e82285c5ab",
   "metadata": {
    "colab": {
     "base_uri": "https://localhost:8080/"
    },
    "id": "b9967e8c-bd3c-465b-9fd6-b0e82285c5ab",
    "outputId": "ffb99367-40fe-448a-c84f-c9ef6b30f807"
   },
   "outputs": [
    {
     "name": "stdout",
     "output_type": "stream",
     "text": [
      "Model: \"model\"\n",
      "_________________________________________________________________\n",
      "Layer (type)                 Output Shape              Param #   \n",
      "=================================================================\n",
      "input_1 (InputLayer)         [(None, 224, 224, 3)]     0         \n",
      "_________________________________________________________________\n",
      "block1_conv1 (Conv2D)        (None, 224, 224, 64)      1792      \n",
      "_________________________________________________________________\n",
      "block1_conv2 (Conv2D)        (None, 224, 224, 64)      36928     \n",
      "_________________________________________________________________\n",
      "block1_pool (MaxPooling2D)   (None, 112, 112, 64)      0         \n",
      "_________________________________________________________________\n",
      "block2_conv1 (Conv2D)        (None, 112, 112, 128)     73856     \n",
      "_________________________________________________________________\n",
      "block2_conv2 (Conv2D)        (None, 112, 112, 128)     147584    \n",
      "_________________________________________________________________\n",
      "block2_pool (MaxPooling2D)   (None, 56, 56, 128)       0         \n",
      "_________________________________________________________________\n",
      "block3_conv1 (Conv2D)        (None, 56, 56, 256)       295168    \n",
      "_________________________________________________________________\n",
      "block3_conv2 (Conv2D)        (None, 56, 56, 256)       590080    \n",
      "_________________________________________________________________\n",
      "block3_conv3 (Conv2D)        (None, 56, 56, 256)       590080    \n",
      "_________________________________________________________________\n",
      "block3_conv4 (Conv2D)        (None, 56, 56, 256)       590080    \n",
      "_________________________________________________________________\n",
      "block3_pool (MaxPooling2D)   (None, 28, 28, 256)       0         \n",
      "_________________________________________________________________\n",
      "block4_conv1 (Conv2D)        (None, 28, 28, 512)       1180160   \n",
      "_________________________________________________________________\n",
      "block4_conv2 (Conv2D)        (None, 28, 28, 512)       2359808   \n",
      "_________________________________________________________________\n",
      "block4_conv3 (Conv2D)        (None, 28, 28, 512)       2359808   \n",
      "_________________________________________________________________\n",
      "block4_conv4 (Conv2D)        (None, 28, 28, 512)       2359808   \n",
      "_________________________________________________________________\n",
      "block4_pool (MaxPooling2D)   (None, 14, 14, 512)       0         \n",
      "_________________________________________________________________\n",
      "block5_conv1 (Conv2D)        (None, 14, 14, 512)       2359808   \n",
      "_________________________________________________________________\n",
      "block5_conv2 (Conv2D)        (None, 14, 14, 512)       2359808   \n",
      "_________________________________________________________________\n",
      "block5_conv3 (Conv2D)        (None, 14, 14, 512)       2359808   \n",
      "_________________________________________________________________\n",
      "block5_conv4 (Conv2D)        (None, 14, 14, 512)       2359808   \n",
      "_________________________________________________________________\n",
      "block5_pool (MaxPooling2D)   (None, 7, 7, 512)         0         \n",
      "_________________________________________________________________\n",
      "flatten (Flatten)            (None, 25088)             0         \n",
      "_________________________________________________________________\n",
      "dense (Dense)                (None, 2)                 50178     \n",
      "=================================================================\n",
      "Total params: 20,074,562\n",
      "Trainable params: 50,178\n",
      "Non-trainable params: 20,024,384\n",
      "_________________________________________________________________\n"
     ]
    }
   ],
   "source": [
    "#view the summary of the model\n",
    "\n",
    "model.summary()"
   ]
  },
  {
   "cell_type": "code",
   "execution_count": 13,
   "id": "d35070b6-1faf-4b08-95ba-1136e9d2ed07",
   "metadata": {
    "id": "d35070b6-1faf-4b08-95ba-1136e9d2ed07"
   },
   "outputs": [],
   "source": [
    "#step to complie model with loss and optimization method details\n",
    "\n",
    "model.compile(loss='categorical_crossentropy',\n",
    "             optimizer='adam',\n",
    "             metrics='accuracy'\n",
    "             )"
   ]
  },
  {
   "cell_type": "code",
   "execution_count": 14,
   "id": "da05f968-9315-47a8-811d-ba9907a34ab7",
   "metadata": {
    "id": "da05f968-9315-47a8-811d-ba9907a34ab7"
   },
   "outputs": [],
   "source": [
    "#Using Image data generator to import images from dataset\n",
    "\n",
    "train_datagen = ImageDataGenerator(rescale = 1./255,\n",
    "                                   shear_range=0.2,\n",
    "                                   zoom_range=0.2,\n",
    "                                   horizontal_flip=True,\n",
    "                                   width_shift_range=0.1,\n",
    "                                   height_shift_range=0.1)\n",
    "\n",
    "test_datagen = ImageDataGenerator(rescale=1./255)"
   ]
  },
  {
   "cell_type": "code",
   "execution_count": 15,
   "id": "ca983930-4820-4cc4-82bc-bca15b78ff4c",
   "metadata": {
    "id": "ca983930-4820-4cc4-82bc-bca15b78ff4c"
   },
   "outputs": [],
   "source": [
    "target_size = (224,224)\n",
    "batch_size = 32"
   ]
  },
  {
   "cell_type": "code",
   "execution_count": 16,
   "id": "ef28daaa-b987-47f7-af9a-916ef2a8f1e2",
   "metadata": {
    "colab": {
     "base_uri": "https://localhost:8080/"
    },
    "id": "ef28daaa-b987-47f7-af9a-916ef2a8f1e2",
    "outputId": "ee2daac5-7dbb-4434-8266-2365ab96e729"
   },
   "outputs": [
    {
     "name": "stdout",
     "output_type": "stream",
     "text": [
      "Found 1012 images belonging to 2 classes.\n"
     ]
    }
   ],
   "source": [
    "training_set = train_datagen.flow_from_directory(train_path,target_size=target_size,batch_size=batch_size,shuffle=True,\n",
    "                                                 class_mode='categorical')"
   ]
  },
  {
   "cell_type": "code",
   "execution_count": 17,
   "id": "3ce5886f-6f8f-49e0-a219-9ab093e860cb",
   "metadata": {
    "colab": {
     "base_uri": "https://localhost:8080/"
    },
    "id": "3ce5886f-6f8f-49e0-a219-9ab093e860cb",
    "outputId": "fb500715-cf7e-4318-9f7c-04b4353c4dab"
   },
   "outputs": [
    {
     "name": "stdout",
     "output_type": "stream",
     "text": [
      "Found 506 images belonging to 2 classes.\n"
     ]
    }
   ],
   "source": [
    "test_set = test_datagen.flow_from_directory(test_path,target_size=target_size,batch_size=batch_size,shuffle=False,\n",
    "                                                 class_mode='categorical')"
   ]
  },
  {
   "cell_type": "code",
   "execution_count": 20,
   "id": "bf1fc455-c568-454a-a991-1e1d6655da28",
   "metadata": {
    "colab": {
     "base_uri": "https://localhost:8080/"
    },
    "id": "bf1fc455-c568-454a-a991-1e1d6655da28",
    "outputId": "1773afcf-ab48-4f0a-b6cc-6633a6475f14"
   },
   "outputs": [
    {
     "name": "stderr",
     "output_type": "stream",
     "text": [
      "/usr/local/lib/python3.7/dist-packages/tensorflow/python/keras/engine/training.py:1940: UserWarning: `Model.fit_generator` is deprecated and will be removed in a future version. Please use `Model.fit`, which supports generators.\n",
      "  warnings.warn('`Model.fit_generator` is deprecated and '\n"
     ]
    },
    {
     "name": "stdout",
     "output_type": "stream",
     "text": [
      "Epoch 1/20\n",
      "32/32 [==============================] - 17s 533ms/step - loss: 0.2337 - accuracy: 0.8992 - val_loss: 0.5507 - val_accuracy: 0.7391\n",
      "Epoch 2/20\n",
      "32/32 [==============================] - 17s 525ms/step - loss: 0.2225 - accuracy: 0.9051 - val_loss: 0.4921 - val_accuracy: 0.7925\n",
      "Epoch 3/20\n",
      "32/32 [==============================] - 17s 521ms/step - loss: 0.2252 - accuracy: 0.8992 - val_loss: 0.5293 - val_accuracy: 0.7945\n",
      "Epoch 4/20\n",
      "32/32 [==============================] - 17s 519ms/step - loss: 0.2737 - accuracy: 0.8854 - val_loss: 0.4468 - val_accuracy: 0.8182\n",
      "Epoch 5/20\n",
      "32/32 [==============================] - 17s 520ms/step - loss: 0.1939 - accuracy: 0.9239 - val_loss: 0.5968 - val_accuracy: 0.7273\n",
      "Epoch 6/20\n",
      "32/32 [==============================] - 17s 521ms/step - loss: 0.2257 - accuracy: 0.8943 - val_loss: 0.5889 - val_accuracy: 0.7490\n",
      "Epoch 7/20\n",
      "32/32 [==============================] - 17s 521ms/step - loss: 0.1801 - accuracy: 0.9180 - val_loss: 0.5004 - val_accuracy: 0.7964\n",
      "Epoch 8/20\n",
      "32/32 [==============================] - 17s 519ms/step - loss: 0.1771 - accuracy: 0.9308 - val_loss: 0.4970 - val_accuracy: 0.7925\n",
      "Epoch 9/20\n",
      "32/32 [==============================] - 17s 518ms/step - loss: 0.2105 - accuracy: 0.9170 - val_loss: 0.7158 - val_accuracy: 0.7945\n",
      "Epoch 10/20\n",
      "32/32 [==============================] - 17s 521ms/step - loss: 0.1975 - accuracy: 0.9239 - val_loss: 0.4958 - val_accuracy: 0.7885\n",
      "Epoch 11/20\n",
      "32/32 [==============================] - 17s 521ms/step - loss: 0.1936 - accuracy: 0.9170 - val_loss: 0.5914 - val_accuracy: 0.7885\n",
      "Epoch 12/20\n",
      "32/32 [==============================] - 17s 519ms/step - loss: 0.1589 - accuracy: 0.9397 - val_loss: 0.4765 - val_accuracy: 0.8182\n",
      "Epoch 13/20\n",
      "32/32 [==============================] - 17s 520ms/step - loss: 0.2143 - accuracy: 0.9130 - val_loss: 0.4827 - val_accuracy: 0.8162\n",
      "Epoch 14/20\n",
      "32/32 [==============================] - 17s 521ms/step - loss: 0.2229 - accuracy: 0.9022 - val_loss: 1.0790 - val_accuracy: 0.6265\n",
      "Epoch 15/20\n",
      "32/32 [==============================] - 17s 517ms/step - loss: 0.1793 - accuracy: 0.9239 - val_loss: 0.5687 - val_accuracy: 0.7569\n",
      "Epoch 16/20\n",
      "32/32 [==============================] - 17s 518ms/step - loss: 0.1781 - accuracy: 0.9298 - val_loss: 0.5089 - val_accuracy: 0.7905\n",
      "Epoch 17/20\n",
      "32/32 [==============================] - 17s 519ms/step - loss: 0.1595 - accuracy: 0.9318 - val_loss: 0.4511 - val_accuracy: 0.8399\n",
      "Epoch 18/20\n",
      "32/32 [==============================] - 17s 523ms/step - loss: 0.1509 - accuracy: 0.9397 - val_loss: 0.6985 - val_accuracy: 0.7154\n",
      "Epoch 19/20\n",
      "32/32 [==============================] - 17s 524ms/step - loss: 0.2153 - accuracy: 0.9051 - val_loss: 0.4807 - val_accuracy: 0.8340\n",
      "Epoch 20/20\n",
      "32/32 [==============================] - 17s 521ms/step - loss: 0.1560 - accuracy: 0.9387 - val_loss: 0.5086 - val_accuracy: 0.8202\n"
     ]
    }
   ],
   "source": [
    "results = model.fit_generator(training_set,validation_data=test_set,epochs=20,verbose=1,shuffle=True)"
   ]
  },
  {
   "cell_type": "code",
   "execution_count": 19,
   "id": "JEOWoKHN-LqT",
   "metadata": {
    "colab": {
     "base_uri": "https://localhost:8080/"
    },
    "id": "JEOWoKHN-LqT",
    "outputId": "ba5786f3-8286-4aaf-d95b-9ca2d73e65c3"
   },
   "outputs": [
    {
     "data": {
      "text/plain": [
       "<tensorflow.python.keras.callbacks.History at 0x7f232c251dd0>"
      ]
     },
     "execution_count": 19,
     "metadata": {
      "tags": []
     },
     "output_type": "execute_result"
    }
   ],
   "source": [
    "results"
   ]
  },
  {
   "cell_type": "code",
   "execution_count": 21,
   "id": "vrWxz8Ou-L3u",
   "metadata": {
    "id": "vrWxz8Ou-L3u"
   },
   "outputs": [],
   "source": [
    "from tensorflow.keras.models import load_model\n",
    "model.save(\"malaria_detector.h5\")"
   ]
  },
  {
   "cell_type": "code",
   "execution_count": 23,
   "id": "s8_Mq7aqOWYH",
   "metadata": {
    "id": "s8_Mq7aqOWYH"
   },
   "outputs": [],
   "source": [
    "import pandas as pd\n",
    "losses = pd.DataFrame(model.history.history)"
   ]
  },
  {
   "cell_type": "code",
   "execution_count": 24,
   "id": "B8dsIhHYOWbQ",
   "metadata": {
    "colab": {
     "base_uri": "https://localhost:8080/"
    },
    "id": "B8dsIhHYOWbQ",
    "outputId": "d81ba161-15b0-4c80-acc9-b0963e2dcfe3"
   },
   "outputs": [
    {
     "data": {
      "text/plain": [
       "Index(['loss', 'accuracy', 'val_loss', 'val_accuracy'], dtype='object')"
      ]
     },
     "execution_count": 24,
     "metadata": {
      "tags": []
     },
     "output_type": "execute_result"
    }
   ],
   "source": [
    "losses.columns"
   ]
  },
  {
   "cell_type": "code",
   "execution_count": 25,
   "id": "SjOSv80BOWer",
   "metadata": {
    "colab": {
     "base_uri": "https://localhost:8080/",
     "height": 282
    },
    "id": "SjOSv80BOWer",
    "outputId": "63f2ce21-b02d-4811-f15d-0aae39bd0902"
   },
   "outputs": [
    {
     "data": {
      "text/plain": [
       "<matplotlib.axes._subplots.AxesSubplot at 0x7f22d8350890>"
      ]
     },
     "execution_count": 25,
     "metadata": {
      "tags": []
     },
     "output_type": "execute_result"
    },
    {
     "data": {
      "image/png": "[encoded data removed]",
      "text/plain": [
       "<Figure size 432x288 with 1 Axes>"
      ]
     },
     "metadata": {
      "needs_background": "light",
      "tags": []
     },
     "output_type": "display_data"
    }
   ],
   "source": [
    "losses[['loss','val_loss']].plot()"
   ]
  },
  {
   "cell_type": "code",
   "execution_count": 27,
   "id": "a3WCESFUOWhN",
   "metadata": {
    "colab": {
     "base_uri": "https://localhost:8080/",
     "height": 283
    },
    "id": "a3WCESFUOWhN",
    "outputId": "9ee5f80a-c6ef-4ea5-b88b-5c4687b7e98d"
   },
   "outputs": [
    {
     "data": {
      "text/plain": [
       "<matplotlib.axes._subplots.AxesSubplot at 0x7f231c567ed0>"
      ]
     },
     "execution_count": 27,
     "metadata": {
      "tags": []
     },
     "output_type": "execute_result"
    },
    {
     "data": {
      "image/png": "[encoded data removed]",
      "text/plain": [
       "<Figure size 432x288 with 1 Axes>"
      ]
     },
     "metadata": {
      "needs_background": "light",
      "tags": []
     },
     "output_type": "display_data"
    }
   ],
   "source": [
    "losses[['accuracy','val_accuracy']].plot()"
   ]
  },
  {
   "cell_type": "code",
   "execution_count": 44,
   "id": "ZSoAG2K7OWjw",
   "metadata": {
    "id": "ZSoAG2K7OWjw"
   },
   "outputs": [],
   "source": [
    "pred_probabilities = model.predict(test_set)"
   ]
  },
  {
   "cell_type": "code",
   "execution_count": 52,
   "id": "iGdzvq8bTCZa",
   "metadata": {
    "id": "iGdzvq8bTCZa"
   },
   "outputs": [],
   "source": [
    "pred_probabilities = pred_probabilities[:,0]"
   ]
  },
  {
   "cell_type": "code",
   "execution_count": 53,
   "id": "0dXU-XSWQZhf",
   "metadata": {
    "id": "0dXU-XSWQZhf"
   },
   "outputs": [],
   "source": [
    "Predictions = pred_probabilities > 0.6 "
   ]
  },
  {
   "cell_type": "code",
   "execution_count": 55,
   "id": "2Qoqy1csQZna",
   "metadata": {
    "id": "2Qoqy1csQZna"
   },
   "outputs": [],
   "source": [
    "from sklearn.metrics import classification_report, confusion_matrix"
   ]
  },
  {
   "cell_type": "code",
   "execution_count": 58,
   "id": "-1KhClW4QZrE",
   "metadata": {
    "colab": {
     "base_uri": "https://localhost:8080/"
    },
    "id": "-1KhClW4QZrE",
    "outputId": "f97b9c23-99ac-4b18-d2d9-174dc02eab54"
   },
   "outputs": [
    {
     "name": "stdout",
     "output_type": "stream",
     "text": [
      "              precision    recall  f1-score   support\n",
      "\n",
      "           0       0.18      0.26      0.21       209\n",
      "           1       0.21      0.14      0.17       297\n",
      "\n",
      "    accuracy                           0.19       506\n",
      "   macro avg       0.19      0.20      0.19       506\n",
      "weighted avg       0.20      0.19      0.19       506\n",
      "\n"
     ]
    }
   ],
   "source": [
    "print(classification_report(test_set.classes,Predictions))"
   ]
  },
  {
   "cell_type": "code",
   "execution_count": 19,
   "id": "41dedc36-cacf-4c06-9769-c81dd25867c3",
   "metadata": {},
   "outputs": [],
   "source": [
    "from tensorflow.keras.models import load_model"
   ]
  },
  {
   "cell_type": "code",
   "execution_count": 20,
   "id": "eQvov4vfVrhb",
   "metadata": {
    "id": "eQvov4vfVrhb"
   },
   "outputs": [],
   "source": [
    "my_model = load_model(\"malaria_detector.h5\")"
   ]
  },
  {
   "cell_type": "code",
   "execution_count": 23,
   "id": "ebe9c375-3ee9-4086-98ea-f13c40e40cb3",
   "metadata": {},
   "outputs": [
    {
     "data": {
      "text/plain": [
       "'C:\\\\Users\\\\91994\\\\Desktop\\\\my_projects\\\\Malaria_classification'"
      ]
     },
     "execution_count": 23,
     "metadata": {},
     "output_type": "execute_result"
    }
   ],
   "source": [
    "pwd"
   ]
  },
  {
   "cell_type": "code",
   "execution_count": 24,
   "id": "a7bcb280-9e52-433e-9c1b-68e47df27764",
   "metadata": {},
   "outputs": [],
   "source": [
    "img_path = \"cell_images\\\\test\\\\parasitized\\\\C39P4thinF_original_IMG_20150622_105803_cell_78.png\""
   ]
  },
  {
   "cell_type": "code",
   "execution_count": 25,
   "id": "436cbcd4-4758-425c-90c8-ab8f0c15d8a2",
   "metadata": {},
   "outputs": [],
   "source": [
    "img = load_img(img_path,target_size=target_size)"
   ]
  },
  {
   "cell_type": "code",
   "execution_count": 28,
   "id": "1bc12316-8f19-4ed0-b2e8-f5f3208053db",
   "metadata": {},
   "outputs": [],
   "source": [
    "img_arr = image.img_to_array(img)"
   ]
  },
  {
   "cell_type": "code",
   "execution_count": 29,
   "id": "641e9fc5-aa73-4d70-9e6e-a79d838ecebc",
   "metadata": {},
   "outputs": [
    {
     "data": {
      "text/plain": [
       "(224, 224, 3)"
      ]
     },
     "execution_count": 29,
     "metadata": {},
     "output_type": "execute_result"
    }
   ],
   "source": [
    "img_arr.shape"
   ]
  },
  {
   "cell_type": "code",
   "execution_count": 30,
   "id": "0cc6dc99-6915-4dfe-99f8-a8ae42998a2d",
   "metadata": {},
   "outputs": [],
   "source": [
    "img_arr = np.expand_dims(img_arr,axis=0)"
   ]
  },
  {
   "cell_type": "code",
   "execution_count": 31,
   "id": "aee9b3db-a3bc-47bf-8157-00efa2abb640",
   "metadata": {},
   "outputs": [
    {
     "data": {
      "text/plain": [
       "(1, 224, 224, 3)"
      ]
     },
     "execution_count": 31,
     "metadata": {},
     "output_type": "execute_result"
    }
   ],
   "source": [
    "img_arr.shape"
   ]
  },
  {
   "cell_type": "code",
   "execution_count": 50,
   "id": "56d98460-ffbd-40f7-b7fb-aa74fb65ee06",
   "metadata": {},
   "outputs": [],
   "source": [
    "img_arr1 = img_arr/224"
   ]
  },
  {
   "cell_type": "code",
   "execution_count": 38,
   "id": "7a474bdf-6bb8-4934-8b7c-1762ffdf619b",
   "metadata": {},
   "outputs": [
    {
     "data": {
      "text/plain": [
       "0.9776786"
      ]
     },
     "execution_count": 38,
     "metadata": {},
     "output_type": "execute_result"
    }
   ],
   "source": [
    "img_arr.max()"
   ]
  },
  {
   "cell_type": "code",
   "execution_count": 39,
   "id": "5a0cad68-ed0a-4583-9d19-f4d57a220e18",
   "metadata": {},
   "outputs": [
    {
     "data": {
      "text/plain": [
       "0.0"
      ]
     },
     "execution_count": 39,
     "metadata": {},
     "output_type": "execute_result"
    }
   ],
   "source": [
    "img_arr.min()"
   ]
  },
  {
   "cell_type": "code",
   "execution_count": 40,
   "id": "d3aa65c1-9bad-43af-9646-e84b2cae53a2",
   "metadata": {},
   "outputs": [],
   "source": [
    "image_prediction = my_model.predict(img_arr)"
   ]
  },
  {
   "cell_type": "code",
   "execution_count": 47,
   "id": "fe253484-2c3b-4ad9-ba01-3c7945756a2d",
   "metadata": {},
   "outputs": [
    {
     "data": {
      "text/plain": [
       "array([[9.9998701e-01, 1.2979867e-05]], dtype=float32)"
      ]
     },
     "execution_count": 47,
     "metadata": {},
     "output_type": "execute_result"
    }
   ],
   "source": [
    "image_prediction"
   ]
  },
  {
   "cell_type": "code",
   "execution_count": 46,
   "id": "2858923d-cc9b-4b7e-872a-1a3f8100f343",
   "metadata": {},
   "outputs": [
    {
     "data": {
      "text/plain": [
       "0.999987"
      ]
     },
     "execution_count": 46,
     "metadata": {},
     "output_type": "execute_result"
    }
   ],
   "source": [
    "image_prediction[0][0]"
   ]
  },
  {
   "cell_type": "code",
   "execution_count": 42,
   "id": "6fd6f55b-4ba5-4206-87a7-9fbdea504d3c",
   "metadata": {},
   "outputs": [
    {
     "data": {
      "text/plain": [
       "{'parasitized': 0, 'uninfected': 1}"
      ]
     },
     "execution_count": 42,
     "metadata": {},
     "output_type": "execute_result"
    }
   ],
   "source": [
    "training_set.class_indices"
   ]
  },
  {
   "cell_type": "code",
   "execution_count": 48,
   "id": "e5b9780f-0794-4473-a265-e077e1674172",
   "metadata": {},
   "outputs": [],
   "source": [
    "def predict_image(img_arr):\n",
    "    image_prediction = my_model.predict(img_arr)\n",
    "    if image_prediction[0][0] > 0.6:\n",
    "        print (\"parasitized\")\n",
    "    else:\n",
    "        print(\"uninfected\")"
   ]
  },
  {
   "cell_type": "code",
   "execution_count": 51,
   "id": "c2935e2f-ff08-4fad-9b1c-4009cfe80570",
   "metadata": {},
   "outputs": [
    {
     "name": "stdout",
     "output_type": "stream",
     "text": [
      "parasitized\n"
     ]
    }
   ],
   "source": [
    "predict_image(img_arr1)"
   ]
  },
  {
   "cell_type": "code",
   "execution_count": 59,
   "id": "b2568d02-ec80-4f01-b35c-621f4658648f",
   "metadata": {},
   "outputs": [],
   "source": [
    "uninf_image_path = \"cell_images\\\\test\\\\uninfected\\\\C5NThinF_IMG_20150609_122006_cell_179.png\""
   ]
  },
  {
   "cell_type": "code",
   "execution_count": 60,
   "id": "3289d959-ae71-40ab-a58c-4d411cc3d64a",
   "metadata": {},
   "outputs": [],
   "source": [
    "ui_img = load_img(uninf_image_path,target_size=target_size)"
   ]
  },
  {
   "cell_type": "code",
   "execution_count": 61,
   "id": "398a3a2a-8232-4c93-86ac-8da3d0cfd0a1",
   "metadata": {},
   "outputs": [],
   "source": [
    "ui_img_array = image.img_to_array(ui_img)"
   ]
  },
  {
   "cell_type": "code",
   "execution_count": 62,
   "id": "aa642c0e-02bb-4e96-88de-a212b19ed9fd",
   "metadata": {},
   "outputs": [
    {
     "data": {
      "text/plain": [
       "(224, 224, 3)"
      ]
     },
     "execution_count": 62,
     "metadata": {},
     "output_type": "execute_result"
    }
   ],
   "source": [
    "ui_img_array.shape"
   ]
  },
  {
   "cell_type": "code",
   "execution_count": 63,
   "id": "3e2219bf-b9fe-40b8-a8d4-be805ed3aaf7",
   "metadata": {},
   "outputs": [],
   "source": [
    "ui_img_array = np.expand_dims(ui_img_array,axis=0)"
   ]
  },
  {
   "cell_type": "code",
   "execution_count": 64,
   "id": "3dcc84f8-6c26-470a-91f9-29b1cd3a0d8d",
   "metadata": {},
   "outputs": [
    {
     "data": {
      "text/plain": [
       "(1, 224, 224, 3)"
      ]
     },
     "execution_count": 64,
     "metadata": {},
     "output_type": "execute_result"
    }
   ],
   "source": [
    "ui_img_array.shape"
   ]
  },
  {
   "cell_type": "code",
   "execution_count": 65,
   "id": "b0216fb8-d09c-4e22-85f2-ce2c8e7c225e",
   "metadata": {},
   "outputs": [],
   "source": [
    "ui_img_array = ui_img_array/224"
   ]
  },
  {
   "cell_type": "code",
   "execution_count": 66,
   "id": "1c5dd5a1-c2d6-44eb-8790-054112d0bab0",
   "metadata": {},
   "outputs": [
    {
     "data": {
      "text/plain": [
       "0.99553573"
      ]
     },
     "execution_count": 66,
     "metadata": {},
     "output_type": "execute_result"
    }
   ],
   "source": [
    "ui_img_array.max()"
   ]
  },
  {
   "cell_type": "code",
   "execution_count": 67,
   "id": "ec5aaf9b-493d-46f7-8091-5c2264ccbc8d",
   "metadata": {},
   "outputs": [
    {
     "name": "stdout",
     "output_type": "stream",
     "text": [
      "uninfected\n"
     ]
    }
   ],
   "source": [
    "predict_image(ui_img_array)"
   ]
  },
  {
   "cell_type": "code",
   "execution_count": null,
   "id": "08e7e837-7198-4b25-ae56-2e02d84722e0",
   "metadata": {},
   "outputs": [],
   "source": []
  }
 ],
 "metadata": {
  "accelerator": "GPU",
  "colab": {
   "collapsed_sections": [],
   "name": "Malaria_classification.ipynb",
   "provenance": []
  },
  "kernelspec": {
   "display_name": "Python 3",
   "language": "python",
   "name": "python3"
  },
  "language_info": {
   "codemirror_mode": {
    "name": "ipython",
    "version": 3
   },
   "file_extension": ".py",
   "mimetype": "text/x-python",
   "name": "python",
   "nbconvert_exporter": "python",
   "pygments_lexer": "ipython3",
   "version": "3.9.5"
  }
 },
 "nbformat": 4,
 "nbformat_minor": 5
}
